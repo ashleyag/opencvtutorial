{
 "cells": [
  {
   "cell_type": "code",
   "execution_count": 1,
   "metadata": {},
   "outputs": [],
   "source": [
    "import cv2\n",
    "import sys\n",
    "import matplotlib.pyplot as pl\n",
    "import numpy"
   ]
  },
  {
   "cell_type": "code",
   "execution_count": null,
   "metadata": {},
   "outputs": [
    {
     "name": "stdout",
     "output_type": "stream",
     "text": [
      "[102 165 156]\n",
      "[155 129  98]\n",
      "[ 34  97 165]\n"
     ]
    }
   ],
   "source": [
    "src = cv2.imread('baboon.jpg',1)\n",
    "cv2.namedWindow('image', cv2.WINDOW_NORMAL)\n",
    "cv2.imshow('image',src)\n",
    "h,w,channels =src.shape\n",
    "#input_planes=numpy.array(3)\n",
    "b,g,r = cv2.split (src)\n",
    "cv2.imshow('Blue Channel',b)\n",
    "cv2.imshow('Green Channel',g)\n",
    "cv2.imshow('Red Channel',r)\n",
    "ycrcb_image=numpy.array((w,h,3))\n",
    "ycrcb_image=cv2.cvtColor(src,cv2.COLOR_BGR2YCrCb)\n",
    "y,cb,cr = cv2.split (ycrcb_image)\n",
    "cv2.imshow('Y Channel',y)\n",
    "cv2.imshow('Cb Channel',cb)\n",
    "cv2.imshow('Cr Channel',cr)\n",
    "hsv_image=numpy.array((w,h,3))\n",
    "hsv_image=cv2.cvtColor(src,cv2.COLOR_BGR2HSV)\n",
    "hue,sat,val = cv2.split (hsv_image)\n",
    "cv2.imshow('Hue',hue)\n",
    "cv2.imshow('Saturation',sat)\n",
    "cv2.imshow('Value',val)\n",
    "pixel=src[20,25]\n",
    "print(pixel)\n",
    "pixel_ycrcb=ycrcb_image[20,25]\n",
    "print(pixel_ycrcb)\n",
    "pixel_hsv=hsv_image[20,25]\n",
    "print(pixel_hsv)\n",
    "cv2.waitKey(0)\n",
    "cv2.destroyAllWindows()\n"
   ]
  },
  {
   "cell_type": "code",
   "execution_count": null,
   "metadata": {
    "collapsed": true
   },
   "outputs": [],
   "source": []
  }
 ],
 "metadata": {
  "kernelspec": {
   "display_name": "Python 3",
   "language": "python",
   "name": "python3"
  },
  "language_info": {
   "codemirror_mode": {
    "name": "ipython",
    "version": 3
   },
   "file_extension": ".py",
   "mimetype": "text/x-python",
   "name": "python",
   "nbconvert_exporter": "python",
   "pygments_lexer": "ipython3",
   "version": "3.6.2"
  }
 },
 "nbformat": 4,
 "nbformat_minor": 2
}
